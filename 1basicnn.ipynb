{
 "cells": [
  {
   "cell_type": "markdown",
   "metadata": {},
   "source": [
    "## 1. Build a Neural Network Model with specified parameters\n",
    "Model Specifications:<br>\n",
    "Input Layer:\n",
    "Input shape: (30,) (Assume 30 input features).<br>\n",
    "Hidden Layer 1:\n",
    "Dense layer with 64 units.\n",
    "Activation function: ReLU.<br>\n",
    "Hidden Layer 2:\n",
    "Dense layer with 32 units.\n",
    "Activation function: ReLU. <br>\n",
    "Output Layer:\n",
    "For binary classification: Dense layer with 1 unit.\n",
    "Activation function: sigmoid.\n",
    "Loss Function:\n",
    "Use binary crossentropy.\n",
    "Optimizer:\n",
    "Use Adam optimizer with a learning rate of 0.001.\n",
    "Metrics:\n",
    "Use accuracy as the evaluation metric.\n",
    "Training:\n",
    "Train the model for 20 epochs with a batch size of 32.\n",
    "Use the train-test split to evaluate performance."
   ]
  },
  {
   "cell_type": "code",
   "execution_count": 16,
   "metadata": {},
   "outputs": [],
   "source": [
    "import tensorflow as tf\n",
    "from tensorflow.keras.models import Sequential\n",
    "from sklearn.model_selection import train_test_split\n",
    "from sklearn.preprocessing import StandardScaler\n",
    "from sklearn.datasets import make_classification"
   ]
  },
  {
   "cell_type": "code",
   "execution_count": 17,
   "metadata": {},
   "outputs": [],
   "source": [
    "from tensorflow.keras.layers import Dense,Input"
   ]
  },
  {
   "cell_type": "code",
   "execution_count": 18,
   "metadata": {},
   "outputs": [],
   "source": [
    "# Generate synthetic data for practice\n",
    "X, y = make_classification(n_samples=1000, n_features=30, random_state=65)\n"
   ]
  },
  {
   "cell_type": "code",
   "execution_count": 19,
   "metadata": {},
   "outputs": [
    {
     "data": {
      "text/plain": [
       "(1000, 30)"
      ]
     },
     "execution_count": 19,
     "metadata": {},
     "output_type": "execute_result"
    }
   ],
   "source": [
    "X.shape"
   ]
  },
  {
   "cell_type": "code",
   "execution_count": 28,
   "metadata": {},
   "outputs": [
    {
     "data": {
      "text/plain": [
       "array([-0.41094839,  0.66440879, -3.0364701 ,  0.38968427,  1.44814127,\n",
       "        1.58830469, -2.58942867, -0.47008522, -0.2551616 ,  1.07194536,\n",
       "       -0.306788  , -1.0191707 ,  0.37315144, -0.53741744, -1.61881688,\n",
       "        0.11721556, -0.72100368,  0.36236659, -0.37334882,  0.22233618,\n",
       "        0.28496471,  0.26527412, -0.63751437,  0.49137253, -0.61886248,\n",
       "        0.8456609 ,  0.8976212 ,  0.58229284, -1.51967668, -0.0592569 ])"
      ]
     },
     "execution_count": 28,
     "metadata": {},
     "output_type": "execute_result"
    }
   ],
   "source": [
    "X[3]"
   ]
  },
  {
   "cell_type": "code",
   "execution_count": 27,
   "metadata": {},
   "outputs": [
    {
     "data": {
      "text/plain": [
       "0"
      ]
     },
     "execution_count": 27,
     "metadata": {},
     "output_type": "execute_result"
    }
   ],
   "source": [
    "y[3]"
   ]
  },
  {
   "cell_type": "code",
   "execution_count": 30,
   "metadata": {},
   "outputs": [],
   "source": [
    "\n",
    "# Split data into train and test sets\n",
    "X_train, X_test, y_train, y_test = train_test_split(X, y, test_size=0.2, random_state=65)\n"
   ]
  },
  {
   "cell_type": "code",
   "execution_count": 31,
   "metadata": {},
   "outputs": [
    {
     "data": {
      "text/plain": [
       "array([[-1.27277547e-01, -4.54306552e-01, -1.27877446e+00, ...,\n",
       "        -1.79570429e-01,  1.13733328e+00, -4.68771426e-02],\n",
       "       [ 2.11918769e+00,  1.03710234e+00, -7.64822851e-01, ...,\n",
       "         6.12092734e-01, -1.07954765e+00, -1.61783953e+00],\n",
       "       [ 5.33344981e-01,  2.71425406e+00,  6.06692410e-01, ...,\n",
       "         1.60112550e-04, -7.61681698e-01,  5.67657849e-01],\n",
       "       ...,\n",
       "       [ 6.28464177e-01, -6.42493130e-01,  1.12801550e+00, ...,\n",
       "         3.47169108e-01, -1.41392525e-02, -6.36971075e-01],\n",
       "       [ 1.08030638e+00,  1.55338694e+00,  7.26136389e-01, ...,\n",
       "         2.80082122e+00, -1.91313286e-01,  7.33802312e-01],\n",
       "       [-4.13685817e-01,  9.52637160e-01, -3.50496281e-01, ...,\n",
       "        -5.30856943e-01,  1.03154066e+00,  2.07524047e-01]])"
      ]
     },
     "execution_count": 31,
     "metadata": {},
     "output_type": "execute_result"
    }
   ],
   "source": [
    "X_train"
   ]
  },
  {
   "cell_type": "code",
   "execution_count": null,
   "metadata": {},
   "outputs": [],
   "source": [
    "\n",
    "# Standardize the data\n",
    "scaler = StandardScaler()\n",
    "X_train = scaler.fit_transform(X_train)\n",
    "X_test = scaler.transform(X_test)\n"
   ]
  },
  {
   "cell_type": "code",
   "execution_count": 32,
   "metadata": {},
   "outputs": [
    {
     "data": {
      "text/plain": [
       "array([[-1.27277547e-01, -4.54306552e-01, -1.27877446e+00, ...,\n",
       "        -1.79570429e-01,  1.13733328e+00, -4.68771426e-02],\n",
       "       [ 2.11918769e+00,  1.03710234e+00, -7.64822851e-01, ...,\n",
       "         6.12092734e-01, -1.07954765e+00, -1.61783953e+00],\n",
       "       [ 5.33344981e-01,  2.71425406e+00,  6.06692410e-01, ...,\n",
       "         1.60112550e-04, -7.61681698e-01,  5.67657849e-01],\n",
       "       ...,\n",
       "       [ 6.28464177e-01, -6.42493130e-01,  1.12801550e+00, ...,\n",
       "         3.47169108e-01, -1.41392525e-02, -6.36971075e-01],\n",
       "       [ 1.08030638e+00,  1.55338694e+00,  7.26136389e-01, ...,\n",
       "         2.80082122e+00, -1.91313286e-01,  7.33802312e-01],\n",
       "       [-4.13685817e-01,  9.52637160e-01, -3.50496281e-01, ...,\n",
       "        -5.30856943e-01,  1.03154066e+00,  2.07524047e-01]])"
      ]
     },
     "execution_count": 32,
     "metadata": {},
     "output_type": "execute_result"
    }
   ],
   "source": [
    "X_train"
   ]
  },
  {
   "cell_type": "code",
   "execution_count": 12,
   "metadata": {},
   "outputs": [
    {
     "data": {
      "text/plain": [
       "(800, 30)"
      ]
     },
     "execution_count": 12,
     "metadata": {},
     "output_type": "execute_result"
    }
   ],
   "source": [
    "X_train.shape"
   ]
  },
  {
   "cell_type": "code",
   "execution_count": 15,
   "metadata": {},
   "outputs": [
    {
     "data": {
      "text/plain": [
       "(800,)"
      ]
     },
     "execution_count": 15,
     "metadata": {},
     "output_type": "execute_result"
    }
   ],
   "source": [
    "y_train.shape"
   ]
  },
  {
   "cell_type": "code",
   "execution_count": 13,
   "metadata": {},
   "outputs": [
    {
     "data": {
      "text/plain": [
       "array([[ 1.83615745, -1.78717512, -0.49080401, ...,  0.72001863,\n",
       "        -0.87851766, -0.20712849],\n",
       "       [ 0.02803661,  0.15792675,  0.64680757, ..., -1.77031579,\n",
       "        -0.35241479, -0.24479517],\n",
       "       [ 0.13889878,  0.06116234, -2.3076005 , ...,  1.67635338,\n",
       "         0.32141272,  0.49574774],\n",
       "       ...,\n",
       "       [-0.47294523, -0.41649492, -0.75841813, ..., -1.02556396,\n",
       "        -0.292911  , -2.16129384],\n",
       "       [-2.22479822,  0.88860032,  1.04533831, ..., -0.97744283,\n",
       "         0.40802585,  1.22189745],\n",
       "       [-0.47066034, -1.56997459, -1.45008452, ...,  0.65563577,\n",
       "        -0.76134121, -1.59300773]])"
      ]
     },
     "execution_count": 13,
     "metadata": {},
     "output_type": "execute_result"
    }
   ],
   "source": [
    "X_train"
   ]
  },
  {
   "cell_type": "code",
   "execution_count": 8,
   "metadata": {},
   "outputs": [],
   "source": [
    "# Build the model\n",
    "model = Sequential([\n",
    "    Input(shape=(30,)),               # Input Layer\n",
    "    Dense(units=64, activation='relu'),  # Hidden Layer 1\n",
    "    Dense(units=32, activation='relu'),  # Hidden Layer 2\n",
    "    Dense(units=1, activation='sigmoid')  # Output Layer\n",
    "])\n"
   ]
  },
  {
   "cell_type": "code",
   "execution_count": 33,
   "metadata": {},
   "outputs": [],
   "source": [
    "# Compile the model\n",
    "model.compile(optimizer=tf.keras.optimizers.Adam(learning_rate=0.001),\n",
    "              loss='binary_crossentropy',\n",
    "              metrics=['accuracy'])\n"
   ]
  },
  {
   "cell_type": "code",
   "execution_count": 55,
   "metadata": {},
   "outputs": [
    {
     "name": "stdout",
     "output_type": "stream",
     "text": [
      "Epoch 1/15\n",
      "\u001b[1m25/25\u001b[0m \u001b[32m━━━━━━━━━━━━━━━━━━━━\u001b[0m\u001b[37m\u001b[0m \u001b[1m0s\u001b[0m 6ms/step - accuracy: 0.9614 - loss: 0.1430 - val_accuracy: 0.8850 - val_loss: 0.3213\n",
      "Epoch 2/15\n",
      "\u001b[1m25/25\u001b[0m \u001b[32m━━━━━━━━━━━━━━━━━━━━\u001b[0m\u001b[37m\u001b[0m \u001b[1m0s\u001b[0m 4ms/step - accuracy: 0.9722 - loss: 0.1140 - val_accuracy: 0.8750 - val_loss: 0.3251\n",
      "Epoch 3/15\n",
      "\u001b[1m25/25\u001b[0m \u001b[32m━━━━━━━━━━━━━━━━━━━━\u001b[0m\u001b[37m\u001b[0m \u001b[1m0s\u001b[0m 3ms/step - accuracy: 0.9654 - loss: 0.1191 - val_accuracy: 0.8750 - val_loss: 0.3326\n",
      "Epoch 4/15\n",
      "\u001b[1m25/25\u001b[0m \u001b[32m━━━━━━━━━━━━━━━━━━━━\u001b[0m\u001b[37m\u001b[0m \u001b[1m0s\u001b[0m 3ms/step - accuracy: 0.9770 - loss: 0.1041 - val_accuracy: 0.8750 - val_loss: 0.3381\n",
      "Epoch 5/15\n",
      "\u001b[1m25/25\u001b[0m \u001b[32m━━━━━━━━━━━━━━━━━━━━\u001b[0m\u001b[37m\u001b[0m \u001b[1m0s\u001b[0m 4ms/step - accuracy: 0.9704 - loss: 0.1178 - val_accuracy: 0.8800 - val_loss: 0.3450\n",
      "Epoch 6/15\n",
      "\u001b[1m25/25\u001b[0m \u001b[32m━━━━━━━━━━━━━━━━━━━━\u001b[0m\u001b[37m\u001b[0m \u001b[1m0s\u001b[0m 4ms/step - accuracy: 0.9780 - loss: 0.0982 - val_accuracy: 0.8750 - val_loss: 0.3497\n",
      "Epoch 7/15\n",
      "\u001b[1m25/25\u001b[0m \u001b[32m━━━━━━━━━━━━━━━━━━━━\u001b[0m\u001b[37m\u001b[0m \u001b[1m0s\u001b[0m 4ms/step - accuracy: 0.9752 - loss: 0.1035 - val_accuracy: 0.8750 - val_loss: 0.3571\n",
      "Epoch 8/15\n",
      "\u001b[1m25/25\u001b[0m \u001b[32m━━━━━━━━━━━━━━━━━━━━\u001b[0m\u001b[37m\u001b[0m \u001b[1m0s\u001b[0m 4ms/step - accuracy: 0.9920 - loss: 0.0883 - val_accuracy: 0.8750 - val_loss: 0.3635\n",
      "Epoch 9/15\n",
      "\u001b[1m25/25\u001b[0m \u001b[32m━━━━━━━━━━━━━━━━━━━━\u001b[0m\u001b[37m\u001b[0m \u001b[1m0s\u001b[0m 4ms/step - accuracy: 0.9774 - loss: 0.0867 - val_accuracy: 0.8750 - val_loss: 0.3745\n",
      "Epoch 10/15\n",
      "\u001b[1m25/25\u001b[0m \u001b[32m━━━━━━━━━━━━━━━━━━━━\u001b[0m\u001b[37m\u001b[0m \u001b[1m0s\u001b[0m 3ms/step - accuracy: 0.9896 - loss: 0.0706 - val_accuracy: 0.8800 - val_loss: 0.3782\n",
      "Epoch 11/15\n",
      "\u001b[1m25/25\u001b[0m \u001b[32m━━━━━━━━━━━━━━━━━━━━\u001b[0m\u001b[37m\u001b[0m \u001b[1m0s\u001b[0m 4ms/step - accuracy: 0.9884 - loss: 0.0689 - val_accuracy: 0.8750 - val_loss: 0.3913\n",
      "Epoch 12/15\n",
      "\u001b[1m25/25\u001b[0m \u001b[32m━━━━━━━━━━━━━━━━━━━━\u001b[0m\u001b[37m\u001b[0m \u001b[1m0s\u001b[0m 8ms/step - accuracy: 0.9895 - loss: 0.0649 - val_accuracy: 0.8750 - val_loss: 0.3943\n",
      "Epoch 13/15\n",
      "\u001b[1m25/25\u001b[0m \u001b[32m━━━━━━━━━━━━━━━━━━━━\u001b[0m\u001b[37m\u001b[0m \u001b[1m0s\u001b[0m 4ms/step - accuracy: 0.9871 - loss: 0.0601 - val_accuracy: 0.8750 - val_loss: 0.4082\n",
      "Epoch 14/15\n",
      "\u001b[1m25/25\u001b[0m \u001b[32m━━━━━━━━━━━━━━━━━━━━\u001b[0m\u001b[37m\u001b[0m \u001b[1m0s\u001b[0m 4ms/step - accuracy: 0.9874 - loss: 0.0636 - val_accuracy: 0.8750 - val_loss: 0.4145\n",
      "Epoch 15/15\n",
      "\u001b[1m25/25\u001b[0m \u001b[32m━━━━━━━━━━━━━━━━━━━━\u001b[0m\u001b[37m\u001b[0m \u001b[1m0s\u001b[0m 4ms/step - accuracy: 0.9919 - loss: 0.0509 - val_accuracy: 0.8750 - val_loss: 0.4223\n"
     ]
    }
   ],
   "source": [
    "# Train the model\n",
    "history = model.fit(X_train, y_train, epochs=15, batch_size=32, validation_data=(X_test, y_test))"
   ]
  },
  {
   "cell_type": "code",
   "execution_count": 56,
   "metadata": {},
   "outputs": [
    {
     "name": "stdout",
     "output_type": "stream",
     "text": [
      "\u001b[1m7/7\u001b[0m \u001b[32m━━━━━━━━━━━━━━━━━━━━\u001b[0m\u001b[37m\u001b[0m \u001b[1m0s\u001b[0m 2ms/step - accuracy: 0.8787 - loss: 0.3660 \n",
      "Test accuracy: 0.875\n"
     ]
    }
   ],
   "source": [
    "# Evaluate the model\n",
    "test_loss, test_acc = model.evaluate(X_test, y_test)\n",
    "\n",
    "print(f\"Test accuracy: {test_acc}\")\n"
   ]
  },
  {
   "cell_type": "code",
   "execution_count": 59,
   "metadata": {},
   "outputs": [
    {
     "name": "stdout",
     "output_type": "stream",
     "text": [
      "{'accuracy': [0.9637500047683716, 0.9662500023841858, 0.9674999713897705, 0.9725000262260437, 0.9750000238418579, 0.9762499928474426, 0.9837499856948853, 0.987500011920929, 0.9862499833106995, 0.9862499833106995, 0.9900000095367432, 0.9887499809265137, 0.9912499785423279, 0.9912499785423279, 0.9925000071525574], 'loss': [0.1339239776134491, 0.12518063187599182, 0.11780640482902527, 0.10911267250776291, 0.1026444211602211, 0.09592258185148239, 0.08873133361339569, 0.08223764598369598, 0.07653890550136566, 0.07161859422922134, 0.06654181331396103, 0.06133025512099266, 0.056607361882925034, 0.05176842585206032, 0.04845600947737694], 'val_accuracy': [0.8849999904632568, 0.875, 0.875, 0.875, 0.8799999952316284, 0.875, 0.875, 0.875, 0.875, 0.8799999952316284, 0.875, 0.875, 0.875, 0.875, 0.875], 'val_loss': [0.32129913568496704, 0.32514873147010803, 0.3325761556625366, 0.33814629912376404, 0.34502890706062317, 0.3496735095977783, 0.3571247160434723, 0.36346566677093506, 0.37452489137649536, 0.3781980872154236, 0.39134854078292847, 0.39429089426994324, 0.40820062160491943, 0.41452881693840027, 0.42231932282447815]}\n"
     ]
    }
   ],
   "source": [
    "print(history.history)\n"
   ]
  },
  {
   "cell_type": "code",
   "execution_count": 57,
   "metadata": {},
   "outputs": [],
   "source": [
    "import matplotlib.pyplot as plt\n"
   ]
  },
  {
   "cell_type": "code",
   "execution_count": 58,
   "metadata": {},
   "outputs": [
    {
     "data": {
      "text/plain": [
       "<matplotlib.legend.Legend at 0x25781162b70>"
      ]
     },
     "execution_count": 58,
     "metadata": {},
     "output_type": "execute_result"
    },
    {
     "data": {
      "image/png": "[encoded data removed]",
      "text/plain": [
       "<Figure size 640x480 with 1 Axes>"
      ]
     },
     "metadata": {},
     "output_type": "display_data"
    }
   ],
   "source": [
    "plt.plot(history.history['loss'], label='Training Loss')\n",
    "plt.plot(history.history['val_loss'], label='Validation Loss')\n",
    "plt.xlabel('Epoch')\n",
    "plt.ylabel('Loss')\n",
    "plt.title('Training and Validation Loss')\n",
    "plt.legend()"
   ]
  },
  {
   "cell_type": "code",
   "execution_count": 61,
   "metadata": {},
   "outputs": [
    {
     "name": "stdout",
     "output_type": "stream",
     "text": [
      "[0.32129913568496704, 0.32514873147010803, 0.3325761556625366, 0.33814629912376404, 0.34502890706062317, 0.3496735095977783, 0.3571247160434723, 0.36346566677093506, 0.37452489137649536, 0.3781980872154236, 0.39134854078292847, 0.39429089426994324, 0.40820062160491943, 0.41452881693840027, 0.42231932282447815]\n"
     ]
    }
   ],
   "source": [
    "print(history.history['val_loss'])"
   ]
  }
 ],
 "metadata": {
  "kernelspec": {
   "display_name": "Python 3",
   "language": "python",
   "name": "python3"
  },
  "language_info": {
   "codemirror_mode": {
    "name": "ipython",
    "version": 3
   },
   "file_extension": ".py",
   "mimetype": "text/x-python",
   "name": "python",
   "nbconvert_exporter": "python",
   "pygments_lexer": "ipython3",
   "version": "3.12.4"
  }
 },
 "nbformat": 4,
 "nbformat_minor": 2
}
